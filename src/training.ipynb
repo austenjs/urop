{
 "metadata": {
  "language_info": {
   "codemirror_mode": {
    "name": "ipython",
    "version": 3
   },
   "file_extension": ".py",
   "mimetype": "text/x-python",
   "name": "python",
   "nbconvert_exporter": "python",
   "pygments_lexer": "ipython3",
   "version": "3.7.7"
  },
  "orig_nbformat": 2,
  "kernelspec": {
   "name": "python3",
   "display_name": "Python 3.7.7 64-bit ('base': conda)"
  },
  "interpreter": {
   "hash": "fe629648da5a141627e8dc366c19a389a6767e8099a5f33ddcdacbdb276296fa"
  }
 },
 "nbformat": 4,
 "nbformat_minor": 2,
 "cells": [
  {
   "cell_type": "code",
   "execution_count": null,
   "source": [
    "import os\r\n",
    "import yaml\r\n",
    "\r\n",
    "import cv2\r\n",
    "import numpy as np\r\n",
    "import matplotlib.pyplot as plt\r\n",
    "import pandas as pd\r\n",
    "import sklearn\r\n",
    "import tensorflow as tf\r\n",
    "\r\n",
    "from model.VGG11 import VGG11\r\n",
    "from preprocess.preprocess import load_data"
   ],
   "outputs": [],
   "metadata": {}
  },
  {
   "cell_type": "code",
   "execution_count": null,
   "source": [
    "with open('config/config.yml', 'r') as stream:\r\n",
    "    config = yaml.safe_load(stream)\r\n",
    "\r\n",
    "ROOT_DIRECTORY = os.path.dirname(os.path.abspath('__file__'))"
   ],
   "outputs": [],
   "metadata": {}
  },
  {
   "cell_type": "markdown",
   "source": [
    "# Initialize the model"
   ],
   "metadata": {}
  },
  {
   "cell_type": "code",
   "execution_count": null,
   "source": [
    "input_shape = (config[\"img_height\"], config[\"img_width\"], 3)\r\n",
    "model = VGG11(input_shape = input_shape, num_classes = config[\"num_classes\"])"
   ],
   "outputs": [],
   "metadata": {}
  },
  {
   "cell_type": "markdown",
   "source": [
    "# Load data"
   ],
   "metadata": {}
  },
  {
   "cell_type": "code",
   "execution_count": null,
   "source": [
    "path_to_set = os.path.join(ROOT_DIRECTORY, config[\"path_to_data\"])\r\n",
    "path_to_train_csv = os.path.join(ROOT_DIRECTORY, config[\"path_to_train_csv\"])\r\n",
    "path_to_test_csv = os.path.join(ROOT_DIRECTORY, config[\"path_to_test_csv\"])\r\n",
    "(X_train, y_train) = load_data(path_to_train_csv, path_to_set, config[\"img_width\"], config[\"img_height\"])\r\n",
    "(X_test, y_test) = load_data(path_to_test_csv, path_to_set, config[\"img_width\"], config[\"img_height\"])"
   ],
   "outputs": [],
   "metadata": {}
  },
  {
   "cell_type": "markdown",
   "source": [
    "# Normalize the data"
   ],
   "metadata": {}
  },
  {
   "cell_type": "code",
   "execution_count": null,
   "source": [
    "X_train = X_train.astype(\"float32\") / 255.0\r\n",
    "X_test = X_test.astype(\"float32\") / 255.0"
   ],
   "outputs": [],
   "metadata": {}
  },
  {
   "cell_type": "markdown",
   "source": [
    "# One-Hot Encode Target value"
   ],
   "metadata": {}
  },
  {
   "cell_type": "code",
   "execution_count": null,
   "source": [
    "y_train = tf.keras.utils.to_categorical(y_train, config[\"num_classes\"])\r\n",
    "y_test = tf.keras.utils.to_categorical(y_test, config[\"num_classes\"])"
   ],
   "outputs": [],
   "metadata": {}
  },
  {
   "cell_type": "markdown",
   "source": [
    "# Shuffle train data before splitting"
   ],
   "metadata": {}
  },
  {
   "cell_type": "code",
   "execution_count": null,
   "source": [
    "X_train, y_train = sklearn.utils.shuffle(X_train, y_train, random_state = 0)"
   ],
   "outputs": [],
   "metadata": {}
  },
  {
   "cell_type": "markdown",
   "source": [
    "# Training"
   ],
   "metadata": {}
  },
  {
   "cell_type": "code",
   "execution_count": null,
   "source": [
    "optimizer = tf.keras.optimizers.Adam(lr = config[\"learning_rate\"], decay = config[\"learning_rate\"] / (config[\"epochs\"]))\r\n",
    "loss = config[\"loss_function\"]\r\n",
    "metrics = config[\"metrics\"]\r\n",
    "model.compile(optimizer = optimizer, loss = loss, metrics = [metrics])\r\n",
    "fit = model.fit(\r\n",
    "  x = X_train,\r\n",
    "  y = y_train,\r\n",
    "  validation_split = 0.2,\r\n",
    "  batch_size = config[\"batch_size\"],\r\n",
    "  verbose = 1,\r\n",
    "  epochs = config[\"epochs\"])"
   ],
   "outputs": [],
   "metadata": {}
  },
  {
   "cell_type": "markdown",
   "source": [
    "# Plot loss in each epoch"
   ],
   "metadata": {}
  },
  {
   "cell_type": "code",
   "execution_count": null,
   "source": [
    "loss = fit.history['loss']\r\n",
    "val_loss = fit.history['val_loss']\r\n",
    "\r\n",
    "epochs = range(1, len(loss) + 1)\r\n",
    "\r\n",
    "plt.plot(epochs, loss, 'bo', label='Training loss')\r\n",
    "plt.plot(epochs, val_loss, 'b', label='Validation loss')\r\n",
    "plt.title('Training and validation loss')\r\n",
    "plt.legend()\r\n",
    "\r\n",
    "plt.show()"
   ],
   "outputs": [],
   "metadata": {}
  },
  {
   "cell_type": "markdown",
   "source": [
    "# Evaluate on test set"
   ],
   "metadata": {}
  },
  {
   "cell_type": "code",
   "execution_count": null,
   "source": [
    "model.evaluate(X_test, y_test, batch_size = config[\"batch_size\"])"
   ],
   "outputs": [],
   "metadata": {}
  },
  {
   "cell_type": "markdown",
   "source": [
    "# Save model"
   ],
   "metadata": {}
  },
  {
   "cell_type": "code",
   "execution_count": null,
   "source": [
    "model.save_weights(os.path.join(ROOT_DIRECTORY, \"../weights/weight.h5\"))"
   ],
   "outputs": [],
   "metadata": {}
  },
  {
   "cell_type": "code",
   "execution_count": null,
   "source": [],
   "outputs": [],
   "metadata": {}
  }
 ]
}